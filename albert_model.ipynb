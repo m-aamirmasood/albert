{
 "cells": [
  {
   "cell_type": "code",
   "execution_count": 1,
   "metadata": {},
   "outputs": [
    {
     "name": "stderr",
     "output_type": "stream",
     "text": [
      "Using TensorFlow backend.\n",
      "/usr/local/lib/python3.5/dist-packages/tensorflow/python/framework/dtypes.py:516: FutureWarning: Passing (type, 1) or '1type' as a synonym of type is deprecated; in a future version of numpy, it will be understood as (type, (1,)) / '(1,)type'.\n",
      "  _np_qint8 = np.dtype([(\"qint8\", np.int8, 1)])\n",
      "/usr/local/lib/python3.5/dist-packages/tensorflow/python/framework/dtypes.py:517: FutureWarning: Passing (type, 1) or '1type' as a synonym of type is deprecated; in a future version of numpy, it will be understood as (type, (1,)) / '(1,)type'.\n",
      "  _np_quint8 = np.dtype([(\"quint8\", np.uint8, 1)])\n",
      "/usr/local/lib/python3.5/dist-packages/tensorflow/python/framework/dtypes.py:518: FutureWarning: Passing (type, 1) or '1type' as a synonym of type is deprecated; in a future version of numpy, it will be understood as (type, (1,)) / '(1,)type'.\n",
      "  _np_qint16 = np.dtype([(\"qint16\", np.int16, 1)])\n",
      "/usr/local/lib/python3.5/dist-packages/tensorflow/python/framework/dtypes.py:519: FutureWarning: Passing (type, 1) or '1type' as a synonym of type is deprecated; in a future version of numpy, it will be understood as (type, (1,)) / '(1,)type'.\n",
      "  _np_quint16 = np.dtype([(\"quint16\", np.uint16, 1)])\n",
      "/usr/local/lib/python3.5/dist-packages/tensorflow/python/framework/dtypes.py:520: FutureWarning: Passing (type, 1) or '1type' as a synonym of type is deprecated; in a future version of numpy, it will be understood as (type, (1,)) / '(1,)type'.\n",
      "  _np_qint32 = np.dtype([(\"qint32\", np.int32, 1)])\n",
      "/usr/local/lib/python3.5/dist-packages/tensorflow/python/framework/dtypes.py:525: FutureWarning: Passing (type, 1) or '1type' as a synonym of type is deprecated; in a future version of numpy, it will be understood as (type, (1,)) / '(1,)type'.\n",
      "  np_resource = np.dtype([(\"resource\", np.ubyte, 1)])\n",
      "/usr/local/lib/python3.5/dist-packages/tensorboard/compat/tensorflow_stub/dtypes.py:541: FutureWarning: Passing (type, 1) or '1type' as a synonym of type is deprecated; in a future version of numpy, it will be understood as (type, (1,)) / '(1,)type'.\n",
      "  _np_qint8 = np.dtype([(\"qint8\", np.int8, 1)])\n",
      "/usr/local/lib/python3.5/dist-packages/tensorboard/compat/tensorflow_stub/dtypes.py:542: FutureWarning: Passing (type, 1) or '1type' as a synonym of type is deprecated; in a future version of numpy, it will be understood as (type, (1,)) / '(1,)type'.\n",
      "  _np_quint8 = np.dtype([(\"quint8\", np.uint8, 1)])\n",
      "/usr/local/lib/python3.5/dist-packages/tensorboard/compat/tensorflow_stub/dtypes.py:543: FutureWarning: Passing (type, 1) or '1type' as a synonym of type is deprecated; in a future version of numpy, it will be understood as (type, (1,)) / '(1,)type'.\n",
      "  _np_qint16 = np.dtype([(\"qint16\", np.int16, 1)])\n",
      "/usr/local/lib/python3.5/dist-packages/tensorboard/compat/tensorflow_stub/dtypes.py:544: FutureWarning: Passing (type, 1) or '1type' as a synonym of type is deprecated; in a future version of numpy, it will be understood as (type, (1,)) / '(1,)type'.\n",
      "  _np_quint16 = np.dtype([(\"quint16\", np.uint16, 1)])\n",
      "/usr/local/lib/python3.5/dist-packages/tensorboard/compat/tensorflow_stub/dtypes.py:545: FutureWarning: Passing (type, 1) or '1type' as a synonym of type is deprecated; in a future version of numpy, it will be understood as (type, (1,)) / '(1,)type'.\n",
      "  _np_qint32 = np.dtype([(\"qint32\", np.int32, 1)])\n",
      "/usr/local/lib/python3.5/dist-packages/tensorboard/compat/tensorflow_stub/dtypes.py:550: FutureWarning: Passing (type, 1) or '1type' as a synonym of type is deprecated; in a future version of numpy, it will be understood as (type, (1,)) / '(1,)type'.\n",
      "  np_resource = np.dtype([(\"resource\", np.ubyte, 1)])\n"
     ]
    },
    {
     "name": "stdout",
     "output_type": "stream",
     "text": [
      "WARNING:tensorflow:From /usr/local/lib/python3.5/dist-packages/keras/backend/tensorflow_backend.py:190: The name tf.get_default_session is deprecated. Please use tf.compat.v1.get_default_session instead.\n",
      "\n",
      "WARNING:tensorflow:From /usr/local/lib/python3.5/dist-packages/keras/backend/tensorflow_backend.py:197: The name tf.ConfigProto is deprecated. Please use tf.compat.v1.ConfigProto instead.\n",
      "\n",
      "WARNING:tensorflow:From /usr/local/lib/python3.5/dist-packages/keras/backend/tensorflow_backend.py:203: The name tf.Session is deprecated. Please use tf.compat.v1.Session instead.\n",
      "\n",
      "WARNING:tensorflow:From /usr/local/lib/python3.5/dist-packages/keras/backend/tensorflow_backend.py:207: The name tf.global_variables is deprecated. Please use tf.compat.v1.global_variables instead.\n",
      "\n"
     ]
    }
   ],
   "source": [
    "from keras.models import Sequential, Model, load_model\n",
    "from keras.layers import Dense, LeakyReLU, BatchNormalization\n",
    "from keras.layers import Conv2D, Conv2DTranspose, Reshape, Flatten\n",
    "from keras.layers import Input, Flatten, Embedding, multiply, Dropout\n",
    "from keras.layers import Concatenate, GaussianNoise,Activation\n",
    "from keras.optimizers import Adam\n",
    "from keras.utils import np_utils, to_categorical\n",
    "from keras.callbacks import TensorBoard\n",
    "from keras import initializers\n",
    "from keras import backend as K\n",
    "from keras.applications.inception_v3 import InceptionV3, preprocess_input\n",
    "from skimage.transform import resize\n",
    "from scipy.linalg import sqrtm\n",
    "K.tensorflow_backend._get_available_gpus()\n",
    "from IPython.display import SVG\n",
    "from keras.utils.vis_utils import model_to_dot"
   ]
  },
  {
   "cell_type": "code",
   "execution_count": 30,
   "metadata": {},
   "outputs": [],
   "source": [
    "import numpy as np\n",
    "import os\n",
    "\n",
    "%matplotlib inline\n",
    "import matplotlib.pyplot as plt\n"
   ]
  },
  {
   "cell_type": "code",
   "execution_count": 10,
   "metadata": {},
   "outputs": [
    {
     "name": "stdout",
     "output_type": "stream",
     "text": [
      "Collecting keras-layer-normalization\n",
      "  Using cached https://files.pythonhosted.org/packages/a4/0e/d1078df0494bac9ce1a67954e5380b6e7569668f0f3b50a9531c62c1fc4a/keras-layer-normalization-0.14.0.tar.gz\n",
      "Collecting numpy (from keras-layer-normalization)\n",
      "  Using cached https://files.pythonhosted.org/packages/d7/b1/3367ea1f372957f97a6752ec725b87886e12af1415216feec9067e31df70/numpy-1.16.5-cp27-cp27mu-manylinux1_x86_64.whl\n",
      "Collecting Keras (from keras-layer-normalization)\n",
      "  Using cached https://files.pythonhosted.org/packages/ad/fd/6bfe87920d7f4fd475acd28500a42482b6b84479832bdc0fe9e589a60ceb/Keras-2.3.1-py2.py3-none-any.whl\n",
      "Collecting keras-applications>=1.0.6 (from Keras->keras-layer-normalization)\n",
      "Collecting h5py (from Keras->keras-layer-normalization)\n",
      "  Using cached https://files.pythonhosted.org/packages/12/90/3216b8f6d69905a320352a9ca6802a8e39fdb1cd93133c3d4163db8d5f19/h5py-2.10.0-cp27-cp27mu-manylinux1_x86_64.whl\n",
      "Collecting pyyaml (from Keras->keras-layer-normalization)\n",
      "Collecting scipy>=0.14 (from Keras->keras-layer-normalization)\n",
      "  Downloading https://files.pythonhosted.org/packages/1d/f6/7c16d60aeb3694e5611976cb4f1eaf1c6b7f1e7c55771d691013405a02ea/scipy-1.2.2-cp27-cp27mu-manylinux1_x86_64.whl (24.8MB)\n",
      "\u001b[K    100% |████████████████████████████████| 24.8MB 54kB/s  eta 0:00:011\n",
      "\u001b[?25hCollecting keras-preprocessing>=1.0.5 (from Keras->keras-layer-normalization)\n",
      "  Using cached https://files.pythonhosted.org/packages/28/6a/8c1f62c37212d9fc441a7e26736df51ce6f0e38455816445471f10da4f0a/Keras_Preprocessing-1.1.0-py2.py3-none-any.whl\n",
      "Collecting six>=1.9.0 (from Keras->keras-layer-normalization)\n",
      "  Using cached https://files.pythonhosted.org/packages/65/26/32b8464df2a97e6dd1b656ed26b2c194606c16fe163c695a992b36c11cdf/six-1.13.0-py2.py3-none-any.whl\n",
      "Building wheels for collected packages: keras-layer-normalization\n",
      "  Running setup.py bdist_wheel for keras-layer-normalization ... \u001b[?25ldone\n",
      "\u001b[?25h  Stored in directory: /home/jupyter/.cache/pip/wheels/54/80/22/a638a7d406fd155e507aa33d703e3fa2612b9eb7bb4f4fe667\n",
      "Successfully built keras-layer-normalization\n",
      "Installing collected packages: numpy, six, h5py, keras-applications, pyyaml, scipy, keras-preprocessing, Keras, keras-layer-normalization\n",
      "Successfully installed Keras-2.3.1 h5py-2.10.0 keras-applications-1.0.8 keras-layer-normalization-0.14.0 keras-preprocessing-1.1.0 numpy-1.16.5 pyyaml-5.1.2 scipy-1.2.2 six-1.13.0\n"
     ]
    }
   ],
   "source": [
    "!pip install keras-layer-normalization    #keras layer for normalization"
   ]
  },
  {
   "cell_type": "markdown",
   "metadata": {},
   "source": [
    "## GELU\n",
    "GELU activation function which is defined as:\n",
    "     GELU(x) = xP(x)\n",
    "     wher P(x) = 0.5𝑥(1+𝑡𝑎𝑛ℎ(sqrt(2/pi))(𝑥+0.044715𝑥3)))"
   ]
  },
  {
   "cell_type": "code",
   "execution_count": 11,
   "metadata": {},
   "outputs": [],
   "source": [
    "def gelu(x):\n",
    "    Px = 0.5 * (1.0 + K.tanh((K.sqrt(2 / (22/7)) * (x + 0.044715 * K.pow(x, 3)))))\n",
    "    return x * Px"
   ]
  },
  {
   "cell_type": "markdown",
   "metadata": {},
   "source": [
    "## sentencepiece Installation"
   ]
  },
  {
   "cell_type": "code",
   "execution_count": 12,
   "metadata": {},
   "outputs": [
    {
     "name": "stdout",
     "output_type": "stream",
     "text": [
      "Collecting sentencepiece\n",
      "  Using cached https://files.pythonhosted.org/packages/fa/50/09193c69a66cc87e95bd53b935f42453ea118cd90f5b118d74536c633d0c/sentencepiece-0.1.83-cp27-cp27mu-manylinux1_x86_64.whl\n",
      "Installing collected packages: sentencepiece\n",
      "Successfully installed sentencepiece-0.1.83\n"
     ]
    }
   ],
   "source": [
    "!pip install sentencepiece"
   ]
  },
  {
   "cell_type": "markdown",
   "metadata": {},
   "source": [
    "## Attention"
   ]
  },
  {
   "cell_type": "code",
   "execution_count": 13,
   "metadata": {},
   "outputs": [],
   "source": [
    "def Attention(X):\n",
    "    channels = X.shape[-1].value\n",
    "    f = Conv2D(channels//8, kernel_size=1, strides=1, padding='same')(X) \n",
    "    g = Conv2D(channels//8, kernel_size=1, strides=1, padding='same')(X)  \n",
    "    h = Conv2D(channels, kernel_size=1, strides=1, padding='same')(X)    \n",
    "    flatten_g = K.reshape(g, shape= ([K.shape(g)[0],-1, K.shape(g)[-1]]))\n",
    "    flatten_f = K.reshape(f, shape= ([K.shape(f)[0], -1, K.shape(f)[-1]]))\n",
    "    flatten_f = K.permute_dimensions(flatten_f, (0,2,1))\n",
    "    s = K.batch_dot(flatten_g, flatten_f)\n",
    "    beta = K.softmax(s)  # attention map\n",
    "    flatten_h = K.reshape(h, shape=([K.shape(h)[0], -1, K.shape(h)[-1]]))\n",
    "    o = K.batch_dot(beta, flatten_h)    \n",
    "    gamma = 0\n",
    "    o = K.reshape(o, shape= K.shape(X))\n",
    "    y = gamma * o + X\n",
    "    return y"
   ]
  },
  {
   "cell_type": "code",
   "execution_count": 14,
   "metadata": {},
   "outputs": [],
   "source": [
    "def dot_product_attention(q, k, v, bias):\n",
    "    logits = K.batch_dot(q, k, axes=1)\n",
    "    logits = K.batch_dot(logits, 1.0 / K.sqrt(float(get_shape_list(q)[-1])))\n",
    "    if bias is not None:\n",
    "        from_shape = get_shape_list(q)\n",
    "        if len(from_shape) == 4:\n",
    "            broadcast_ones = K.ones([from_shape[0], 1, from_shape[2], 1], dtype='float32')\n",
    "        elif len(from_shape) == 5:\n",
    "            broadcast_ones = K.ones([from_shape[0], 1, from_shape[2], from_shape[3],1], dtype='float32')\n",
    "\n",
    "        bias = K.batch_dot(broadcast_ones,K.cast(bias, dtype='float32'), axes=1)\n",
    "        adder = (1.0 - bias) * -10000.0\n",
    "        logits += adder\n",
    "    else:\n",
    "        adder = 0.0\n",
    "    attention_probs = K.softmax(logits, name=\"attention_probs\")\n",
    "    return K.batch_dot(attention_probs, v)"
   ]
  },
  {
   "cell_type": "markdown",
   "metadata": {},
   "source": [
    "## Embeddings Functions"
   ]
  },
  {
   "cell_type": "code",
   "execution_count": 20,
   "metadata": {},
   "outputs": [],
   "source": [
    "def get_timing_signal_1d_given_position(channels, position, min_timescale=1.0, max_timescale=1.0e4):\n",
    "    num_timescales = channels // 2\n",
    "    log_timescale_increment = (K.log(float(max_timescale) / float(min_timescale)) / (tf.to_float(num_timescales) - 1))\n",
    "    inv_timescales = min_timescale * K.exp(tf.to_float(tf.range(num_timescales)) * -log_timescale_increment)\n",
    "    scaled_time = (K.expand_dims(tf.to_float(position), 2) * K.expand_dims(K.expand_dims(inv_timescales, 0), 0))\n",
    "    sig = K.concat([K.sin(scaled_time), K.cos(scaled_time)], axis=2)\n",
    "    sig = K.pad(sig, [[0, 0], [0, 0], [0, K.mod(channels, 2)]])\n",
    "    return sig"
   ]
  },
  {
   "cell_type": "code",
   "execution_count": 22,
   "metadata": {},
   "outputs": [],
   "source": [
    "def embedding_factorization(config, embedding):\n",
    "    mat1 = K.Embedding(vocab_size, embedding)\n",
    "    mat2 = K.Dense(embedding, hidden)\n",
    "    pos_embed = K.Embedding(max_len, hidden) # positional embedding\n",
    "    seg_embed = K.Embedding(n_segments, hidden) # segment embedding\n",
    "    return mat1, mat2, pos_embed, seg_embed"
   ]
  },
  {
   "cell_type": "markdown",
   "metadata": {},
   "source": [
    "## Sentence order loss"
   ]
  },
  {
   "cell_type": "code",
   "execution_count": 21,
   "metadata": {},
   "outputs": [],
   "source": [
    "def get_sentence_order_output(config, pred, labels):\n",
    "    y = K.batch_dot(pred, output_weights, axes = 1)\n",
    "    y = K.bias_add(y, output_bias)\n",
    "    probs = K.log_softmax(y, axis=-1)\n",
    "    labels = K.reshape(labels, [-1])\n",
    "    one_hot_labels = K.one_hot(labels, depth=2, dtype=\"float32\")\n",
    "    per_example_loss = -K.sum(one_hot_labels * log_probs, axis=-1)\n",
    "    loss = K.mean(per_example_loss)\n",
    "    return (loss, per_example_loss, log_probs)"
   ]
  }
 ],
 "metadata": {
  "kernelspec": {
   "display_name": "Python 3",
   "language": "python",
   "name": "python3"
  },
  "language_info": {
   "codemirror_mode": {
    "name": "ipython",
    "version": 3
   },
   "file_extension": ".py",
   "mimetype": "text/x-python",
   "name": "python",
   "nbconvert_exporter": "python",
   "pygments_lexer": "ipython3",
   "version": "3.5.3"
  }
 },
 "nbformat": 4,
 "nbformat_minor": 4
}
